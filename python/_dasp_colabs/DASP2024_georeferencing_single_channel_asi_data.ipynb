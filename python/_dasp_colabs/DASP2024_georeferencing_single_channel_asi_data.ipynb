{
 "cells": [
  {
   "cell_type": "markdown",
   "metadata": {},
   "source": [
    "---\n",
    "## **Georeferencing Single-Channel ASI Data**\n",
    "---\n",
    "\n",
    "2024-02-17: This is a placeholder. Crib sheets will be available in the coming days.\n"
   ]
  }
 ],
 "metadata": {
  "kernelspec": {
   "display_name": "cribsheets311",
   "language": "python",
   "name": "python3"
  },
  "language_info": {
   "codemirror_mode": {
    "name": "ipython",
    "version": 3
   },
   "file_extension": ".py",
   "mimetype": "text/x-python",
   "name": "python",
   "nbconvert_exporter": "python",
   "pygments_lexer": "ipython3",
   "version": "3.11.7"
  }
 },
 "nbformat": 4,
 "nbformat_minor": 2
}
